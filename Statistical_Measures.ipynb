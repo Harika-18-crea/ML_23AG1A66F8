{
  "cells": [
    {
      "cell_type": "markdown",
      "source": [
        "Central Tendancy and Measures of Dispersion"
      ],
      "metadata": {
        "id": "xLcz5ExunE4Y"
      }
    },
    {
      "cell_type": "code",
      "source": [
        "import numpy as np\n",
        "from statistics import mean,median,mode\n",
        "data=[2,4,4,4,5,5,7,9]\n",
        "print(\"Mean:\",mean(data))\n",
        "print(\"Median:\",median(data))\n",
        "print(\"Mode:\",mode(data))\n",
        "print(\"Variance:\",np.var(data))\n",
        "print(\"Standard Deviation:\",np.std(data))"
      ],
      "metadata": {
        "id": "xj_4YuK9hnJL",
        "outputId": "b2eb01e2-7d98-4949-8235-7bbddf4e5195",
        "colab": {
          "base_uri": "https://localhost:8080/"
        }
      },
      "execution_count": null,
      "outputs": [
        {
          "output_type": "stream",
          "name": "stdout",
          "text": [
            "Mean: 5\n",
            "Median: 4.5\n",
            "Mode: 4\n",
            "Variance: 4.0\n",
            "Standard Deviation: 2.0\n"
          ]
        }
      ]
    },
    {
      "cell_type": "markdown",
      "source": [
        "Number functions"
      ],
      "metadata": {
        "id": "zFDX-jZDnLnh"
      }
    },
    {
      "cell_type": "code",
      "source": [
        "import math\n",
        "print(math.ceil(2.3))\n",
        "print(math.floor(2.7))\n",
        "print(math.trunc(8.9))"
      ],
      "metadata": {
        "id": "KEPcQm02i6le",
        "outputId": "9ada92af-ea9e-4ed2-f8e3-ac325238c8f5",
        "colab": {
          "base_uri": "https://localhost:8080/"
        }
      },
      "execution_count": null,
      "outputs": [
        {
          "output_type": "stream",
          "name": "stdout",
          "text": [
            "3\n",
            "2\n",
            "8\n"
          ]
        }
      ]
    },
    {
      "cell_type": "markdown",
      "source": [
        "Power and Logarithmic functions"
      ],
      "metadata": {
        "id": "SJjicIfqnRVr"
      }
    },
    {
      "cell_type": "code",
      "source": [
        "print(math.pow(2,3))\n",
        "print(math.sqrt(16))\n",
        "print(math.exp(2))\n",
        "print(math.log(100,10))"
      ],
      "metadata": {
        "id": "bjg1GIAljUxC",
        "outputId": "ec85b25b-d39b-44ef-a6d1-67df003db1c6",
        "colab": {
          "base_uri": "https://localhost:8080/"
        }
      },
      "execution_count": null,
      "outputs": [
        {
          "output_type": "stream",
          "name": "stdout",
          "text": [
            "8.0\n",
            "4.0\n",
            "7.38905609893065\n",
            "2.0\n"
          ]
        }
      ]
    },
    {
      "cell_type": "markdown",
      "source": [
        "Trigonometric functions"
      ],
      "metadata": {
        "id": "V5MBNnqOnbc6"
      }
    },
    {
      "cell_type": "code",
      "source": [
        "print(math.sin(math.pi/2))\n",
        "print(math.cos(0))\n",
        "print(math.tan(math.pi/4))\n",
        "print(math.radians(90))\n",
        "print(math.degrees(math.pi))"
      ],
      "metadata": {
        "id": "XBcZ1Aobjj3i",
        "outputId": "02b38cc8-55b0-40d8-90de-b4dec1d23590",
        "colab": {
          "base_uri": "https://localhost:8080/"
        }
      },
      "execution_count": null,
      "outputs": [
        {
          "output_type": "stream",
          "name": "stdout",
          "text": [
            "1.0\n",
            "1.0\n",
            "0.9999999999999999\n",
            "1.5707963267948966\n",
            "180.0\n"
          ]
        }
      ]
    },
    {
      "cell_type": "markdown",
      "source": [
        "Special functions"
      ],
      "metadata": {
        "id": "pXskUMQqnhI1"
      }
    },
    {
      "cell_type": "code",
      "source": [
        "print(math.factorial(5))\n",
        "print(math.gcd(20, 8))\n",
        "print(math.fabs(-7.5))"
      ],
      "metadata": {
        "id": "yQsDxTwFjqXJ",
        "outputId": "227985db-35b3-40f2-f63e-853a87600d49",
        "colab": {
          "base_uri": "https://localhost:8080/"
        }
      },
      "execution_count": null,
      "outputs": [
        {
          "output_type": "stream",
          "name": "stdout",
          "text": [
            "120\n",
            "4\n",
            "7.5\n"
          ]
        }
      ]
    },
    {
      "cell_type": "markdown",
      "source": [
        "Constants"
      ],
      "metadata": {
        "id": "jtULWuG-nk7q"
      }
    },
    {
      "cell_type": "code",
      "source": [
        "print(math.pi)\n",
        "print(math.e)"
      ],
      "metadata": {
        "id": "V1YMFPoqjuWW",
        "outputId": "d2121929-7022-4a77-906a-c4895992500c",
        "colab": {
          "base_uri": "https://localhost:8080/"
        }
      },
      "execution_count": null,
      "outputs": [
        {
          "output_type": "stream",
          "name": "stdout",
          "text": [
            "3.141592653589793\n",
            "2.718281828459045\n"
          ]
        }
      ]
    },
    {
      "cell_type": "markdown",
      "source": [
        "Scipy"
      ],
      "metadata": {
        "id": "T2E7vgWcnoGP"
      }
    },
    {
      "cell_type": "code",
      "source": [
        "from scipy import constants\n",
        "print(constants.pi)\n",
        "print(constants.yotta)\n",
        "print(constants.zetta)\n",
        "print(constants.exa)\n",
        "print(constants.peta)\n",
        "print(constants.tera)\n",
        "print(constants.giga)\n",
        "print(constants.mega)\n",
        "print(constants.kilo)\n",
        "print(constants.hecto)\n",
        "print(constants.deka)\n",
        "print(constants.deci)\n",
        "print(constants.centi)\n",
        "print(constants.milli)\n",
        "print(constants.micro)\n",
        "print(constants.nano)\n",
        "print(constants.pico)\n",
        "print(constants.femto)\n",
        "print(constants.atto)\n",
        "print(constants.zepto)"
      ],
      "metadata": {
        "id": "Q_TsJiLyjzli",
        "outputId": "dc81e481-1cd8-4ccb-d698-61544f6b37fb",
        "colab": {
          "base_uri": "https://localhost:8080/"
        }
      },
      "execution_count": null,
      "outputs": [
        {
          "output_type": "stream",
          "name": "stdout",
          "text": [
            "3.141592653589793\n",
            "1e+24\n",
            "1e+21\n",
            "1e+18\n",
            "1000000000000000.0\n",
            "1000000000000.0\n",
            "1000000000.0\n",
            "1000000.0\n",
            "1000.0\n",
            "100.0\n",
            "10.0\n",
            "0.1\n",
            "0.01\n",
            "0.001\n",
            "1e-06\n",
            "1e-09\n",
            "1e-12\n",
            "1e-15\n",
            "1e-18\n",
            "1e-21\n"
          ]
        }
      ]
    },
    {
      "cell_type": "code",
      "source": [
        "print(constants.kibi)\n",
        "print(constants.mebi)\n",
        "print(constants.gibi)\n",
        "print(constants.tebi)\n",
        "print(constants.pebi)\n",
        "print(constants.exbi)\n",
        "print(constants.zebi)\n",
        "print(constants.yobi)"
      ],
      "metadata": {
        "id": "67_cD8SukT2J",
        "outputId": "ae88c44d-b187-447c-ac78-4daf97b39e59",
        "colab": {
          "base_uri": "https://localhost:8080/"
        }
      },
      "execution_count": null,
      "outputs": [
        {
          "output_type": "stream",
          "name": "stdout",
          "text": [
            "1024\n",
            "1048576\n",
            "1073741824\n",
            "1099511627776\n",
            "1125899906842624\n",
            "1152921504606846976\n",
            "1180591620717411303424\n",
            "1208925819614629174706176\n"
          ]
        }
      ]
    },
    {
      "cell_type": "code",
      "source": [
        "import numpy as np\n",
        "from scipy.sparse.csgraph import connected_components\n",
        "from scipy.sparse import csr_matrix\n",
        "arr = np.array([\n",
        "[0, 1, 2],\n",
        "[1, 0, 0],\n",
        "[2, 0, 0]\n",
        "])\n",
        "newarr = csr_matrix(arr)\n",
        "print(connected_components(newarr))"
      ],
      "metadata": {
        "id": "snOjD1zAkcTd",
        "outputId": "de5685cd-d1b1-4c35-d258-52daae9ba052",
        "colab": {
          "base_uri": "https://localhost:8080/"
        }
      },
      "execution_count": null,
      "outputs": [
        {
          "output_type": "stream",
          "name": "stdout",
          "text": [
            "(1, array([0, 0, 0], dtype=int32))\n"
          ]
        }
      ]
    },
    {
      "cell_type": "markdown",
      "source": [
        "Dijkstra"
      ],
      "metadata": {
        "id": "oLimvdCEnuvD"
      }
    },
    {
      "cell_type": "code",
      "source": [
        "import numpy as np\n",
        "from scipy.sparse.csgraph import dijkstra\n",
        "from scipy.sparse import csr_matrix\n",
        "arr = np.array([\n",
        "[0, 1, 2],\n",
        "[1, 0, 0],\n",
        "[2, 0, 0]\n",
        "])\n",
        "newarr = csr_matrix(arr)\n",
        "print(dijkstra(newarr, return_predecessors=True, indices=0))"
      ],
      "metadata": {
        "id": "ws1Z4taqk0tH",
        "outputId": "f33a6d0d-949f-4987-bbd1-232eb12c893c",
        "colab": {
          "base_uri": "https://localhost:8080/"
        }
      },
      "execution_count": null,
      "outputs": [
        {
          "output_type": "stream",
          "name": "stdout",
          "text": [
            "(array([0., 1., 2.]), array([-9999,     0,     0], dtype=int32))\n"
          ]
        }
      ]
    },
    {
      "cell_type": "code",
      "source": [
        "import numpy as np\n",
        "from scipy.sparse.csgraph import floyd_warshall\n",
        "from scipy.sparse import csr_matrix\n",
        "arr=np.array([\n",
        "    [0,1,2],\n",
        "    [1,0,0],\n",
        "    [2,0,0]\n",
        "])\n",
        "newarr=csr_matrix(arr)\n",
        "print(floyd_warshall(newarr, return_predecessors=True))"
      ],
      "metadata": {
        "id": "2q5-c0bBlHmn",
        "outputId": "f8830a9a-b6ae-4a3f-f538-0429e4ee05cf",
        "colab": {
          "base_uri": "https://localhost:8080/"
        }
      },
      "execution_count": null,
      "outputs": [
        {
          "output_type": "stream",
          "name": "stdout",
          "text": [
            "(array([[0., 1., 2.],\n",
            "       [1., 0., 3.],\n",
            "       [2., 3., 0.]]), array([[-9999,     0,     0],\n",
            "       [    1, -9999,     0],\n",
            "       [    2,     0, -9999]], dtype=int32))\n"
          ]
        }
      ]
    },
    {
      "cell_type": "code",
      "source": [
        "import numpy as np\n",
        "from scipy.sparse.csgraph import bellman_ford\n",
        "from scipy.sparse import csr_matrix\n",
        "\n",
        "arr = np.array([\n",
        "  [0, -1, 2],\n",
        "  [1, 0, 0],\n",
        "  [2, 0, 0]\n",
        "])\n",
        "\n",
        "newarr = csr_matrix(arr)\n",
        "\n",
        "print(bellman_ford(newarr, return_predecessors=True, indices=0))"
      ],
      "metadata": {
        "id": "Xv0dIoPYmm2_",
        "outputId": "697bdfde-284d-4ef8-8e11-2ef11f219dfe",
        "colab": {
          "base_uri": "https://localhost:8080/"
        }
      },
      "execution_count": null,
      "outputs": [
        {
          "output_type": "stream",
          "name": "stdout",
          "text": [
            "(array([ 0., -1.,  2.]), array([-9999,     0,     0], dtype=int32))\n"
          ]
        }
      ]
    }
  ],
  "metadata": {
    "colab": {
      "provenance": []
    },
    "kernelspec": {
      "display_name": "Python 3",
      "name": "python3"
    }
  },
  "nbformat": 4,
  "nbformat_minor": 0
}