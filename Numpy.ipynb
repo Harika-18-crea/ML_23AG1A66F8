{
  "nbformat": 4,
  "nbformat_minor": 0,
  "metadata": {
    "colab": {
      "provenance": []
    },
    "kernelspec": {
      "name": "python3",
      "display_name": "Python 3"
    },
    "language_info": {
      "name": "python"
    }
  },
  "cells": [
    {
      "cell_type": "markdown",
      "source": [
        "Numpy"
      ],
      "metadata": {
        "id": "n1DXGWGWEkvh"
      }
    },
    {
      "cell_type": "code",
      "execution_count": 1,
      "metadata": {
        "id": "CFuGFk-fETq1"
      },
      "outputs": [],
      "source": [
        "import numpy as np"
      ]
    },
    {
      "cell_type": "markdown",
      "source": [
        "Creating 1D numpy array"
      ],
      "metadata": {
        "id": "dPZ4y1t3E2ga"
      }
    },
    {
      "cell_type": "code",
      "source": [
        "array1=np.array([3,6,8,2])\n",
        "print(array1)"
      ],
      "metadata": {
        "colab": {
          "base_uri": "https://localhost:8080/"
        },
        "id": "vK6tBYJ7E7iS",
        "outputId": "e6a5e576-b236-4f89-e3c1-a01ea6696dc7"
      },
      "execution_count": 2,
      "outputs": [
        {
          "output_type": "stream",
          "name": "stdout",
          "text": [
            "[3 6 8 2]\n"
          ]
        }
      ]
    },
    {
      "cell_type": "markdown",
      "source": [
        "Creating 2D numpy array"
      ],
      "metadata": {
        "id": "F238fauJFRZR"
      }
    },
    {
      "cell_type": "code",
      "source": [
        "array2=np.array([[1,2,3,4],[6,7,8,9]])\n",
        "print(array2)"
      ],
      "metadata": {
        "colab": {
          "base_uri": "https://localhost:8080/"
        },
        "id": "RBjI9r_sFVR5",
        "outputId": "302104d2-eeec-4cde-dee3-a7cb7d3b2b41"
      },
      "execution_count": 4,
      "outputs": [
        {
          "output_type": "stream",
          "name": "stdout",
          "text": [
            "[[1 2 3 4]\n",
            " [6 7 8 9]]\n"
          ]
        }
      ]
    },
    {
      "cell_type": "markdown",
      "source": [
        "Creating 3D numpy array"
      ],
      "metadata": {
        "id": "f0fM2eS2F_JW"
      }
    },
    {
      "cell_type": "code",
      "source": [
        "array3=np.array([[[1,2,3,4],[5,7,1,4],[4,21,23,45]],\n",
        "                 [[32,21,45,53],[83,37,48,18],[31,48,57,10]]])\n",
        "print(array3)"
      ],
      "metadata": {
        "colab": {
          "base_uri": "https://localhost:8080/"
        },
        "id": "eq8HI1ieGDw7",
        "outputId": "7afbc2d9-c0a9-4d14-93a5-0413dc66fbf3"
      },
      "execution_count": 5,
      "outputs": [
        {
          "output_type": "stream",
          "name": "stdout",
          "text": [
            "[[[ 1  2  3  4]\n",
            "  [ 5  7  1  4]\n",
            "  [ 4 21 23 45]]\n",
            "\n",
            " [[32 21 45 53]\n",
            "  [83 37 48 18]\n",
            "  [31 48 57 10]]]\n"
          ]
        }
      ]
    },
    {
      "cell_type": "markdown",
      "source": [
        "Size of Numpy Array"
      ],
      "metadata": {
        "id": "QryqkZBLHqq4"
      }
    },
    {
      "cell_type": "code",
      "source": [
        "print(array1.size)\n",
        "print(array2.size)\n",
        "print(array3.size)"
      ],
      "metadata": {
        "colab": {
          "base_uri": "https://localhost:8080/"
        },
        "id": "kylZwaymIi0t",
        "outputId": "466e688b-a9f1-457e-95dd-427702cd9520"
      },
      "execution_count": 6,
      "outputs": [
        {
          "output_type": "stream",
          "name": "stdout",
          "text": [
            "4\n",
            "8\n",
            "24\n"
          ]
        }
      ]
    },
    {
      "cell_type": "markdown",
      "source": [
        "Datatype of Numpy Array"
      ],
      "metadata": {
        "id": "AdKocCCXKB-D"
      }
    },
    {
      "cell_type": "code",
      "source": [
        "print(array1.dtype)\n",
        "print(array2.dtype)\n",
        "print(array3.dtype)"
      ],
      "metadata": {
        "colab": {
          "base_uri": "https://localhost:8080/"
        },
        "id": "xmOiZ7vAKIvQ",
        "outputId": "08d2298d-7df1-4487-ae81-1bdbd0466e4c"
      },
      "execution_count": 7,
      "outputs": [
        {
          "output_type": "stream",
          "name": "stdout",
          "text": [
            "int64\n",
            "int64\n",
            "int64\n"
          ]
        }
      ]
    },
    {
      "cell_type": "markdown",
      "source": [
        "Dimensions of Numpy Array"
      ],
      "metadata": {
        "id": "TlmreTOxKNnT"
      }
    },
    {
      "cell_type": "code",
      "source": [
        "print(array1.ndim)\n",
        "print(array2.ndim)\n",
        "print(array3.ndim)"
      ],
      "metadata": {
        "colab": {
          "base_uri": "https://localhost:8080/"
        },
        "id": "pUzdZH_9KSRB",
        "outputId": "d4888339-3b50-4f20-9a24-d47c2763f30e"
      },
      "execution_count": 8,
      "outputs": [
        {
          "output_type": "stream",
          "name": "stdout",
          "text": [
            "1\n",
            "2\n",
            "3\n"
          ]
        }
      ]
    },
    {
      "cell_type": "markdown",
      "source": [
        "Shape of Numpy Array"
      ],
      "metadata": {
        "id": "lBCdMriIKhMr"
      }
    },
    {
      "cell_type": "code",
      "source": [
        "print(array1.shape)\n",
        "print(array2.shape)\n",
        "print(array3.shape)"
      ],
      "metadata": {
        "colab": {
          "base_uri": "https://localhost:8080/"
        },
        "id": "ui5IbgkgKmhh",
        "outputId": "30940a4e-b770-495e-bc89-ffc2dc35eeaa"
      },
      "execution_count": 9,
      "outputs": [
        {
          "output_type": "stream",
          "name": "stdout",
          "text": [
            "(4,)\n",
            "(2, 4)\n",
            "(2, 3, 4)\n"
          ]
        }
      ]
    },
    {
      "cell_type": "markdown",
      "source": [
        "Item Size of Numpy Array"
      ],
      "metadata": {
        "id": "PQTudZn2KzFx"
      }
    },
    {
      "cell_type": "code",
      "source": [
        "print(array1.itemsize)\n",
        "print(array2.itemsize)\n",
        "print(array3.itemsize)"
      ],
      "metadata": {
        "colab": {
          "base_uri": "https://localhost:8080/"
        },
        "id": "pEAMYiBDKrRZ",
        "outputId": "803ddfed-4dd5-4d92-8517-3fdc192a46e1"
      },
      "execution_count": 10,
      "outputs": [
        {
          "output_type": "stream",
          "name": "stdout",
          "text": [
            "8\n",
            "8\n",
            "8\n"
          ]
        }
      ]
    },
    {
      "cell_type": "markdown",
      "source": [
        "Data attribute of Numpy Array"
      ],
      "metadata": {
        "id": "q72neTgnK_CE"
      }
    },
    {
      "cell_type": "code",
      "source": [
        "print(array1.data)\n",
        "print(array2.data)\n",
        "print(array3.data)"
      ],
      "metadata": {
        "colab": {
          "base_uri": "https://localhost:8080/"
        },
        "id": "ocq2tZ07LNfZ",
        "outputId": "0cae332e-4853-448f-bf39-ab6010167a95"
      },
      "execution_count": 11,
      "outputs": [
        {
          "output_type": "stream",
          "name": "stdout",
          "text": [
            "<memory at 0x7e56662c7040>\n",
            "<memory at 0x7e56a0bc7780>\n",
            "<memory at 0x7e56a0c0d300>\n"
          ]
        }
      ]
    },
    {
      "cell_type": "markdown",
      "source": [
        "Array elements using Index"
      ],
      "metadata": {
        "id": "c-XuFvswLv5u"
      }
    },
    {
      "cell_type": "code",
      "source": [
        "print(array1[0])\n",
        "print(array2[0][0])\n",
        "print(array3[0][1][0])"
      ],
      "metadata": {
        "colab": {
          "base_uri": "https://localhost:8080/"
        },
        "id": "GU0Q7qk1L4pC",
        "outputId": "0a49860d-9fa1-4c4b-fc66-fa725066f645"
      },
      "execution_count": 15,
      "outputs": [
        {
          "output_type": "stream",
          "name": "stdout",
          "text": [
            "3\n",
            "1\n",
            "5\n"
          ]
        }
      ]
    },
    {
      "cell_type": "markdown",
      "source": [
        "Modify Array Elements Using index"
      ],
      "metadata": {
        "id": "mFK_Ia6_McDx"
      }
    },
    {
      "cell_type": "code",
      "source": [
        "array1[0]=86\n",
        "array2[0][1]=68\n",
        "array3[0][1][2]=37\n",
        "print(array1)\n",
        "print(array2)\n",
        "print(array3)"
      ],
      "metadata": {
        "colab": {
          "base_uri": "https://localhost:8080/"
        },
        "id": "YYiLOrLzMmuE",
        "outputId": "6275e36a-d056-4bb0-fccd-c5bce2255897"
      },
      "execution_count": 20,
      "outputs": [
        {
          "output_type": "stream",
          "name": "stdout",
          "text": [
            "[86  6  8  2]\n",
            "[[67 68  3  4]\n",
            " [ 6  7  8  9]]\n",
            "[[[37  2  3  4]\n",
            "  [37  7 37  4]\n",
            "  [ 4 21 23 45]]\n",
            "\n",
            " [[32 21 45 53]\n",
            "  [83 37 48 18]\n",
            "  [31 48 57 10]]]\n"
          ]
        }
      ]
    },
    {
      "cell_type": "markdown",
      "source": [
        "Numpy Statstical Functions"
      ],
      "metadata": {
        "id": "dm2s7h5aPPT7"
      }
    },
    {
      "cell_type": "markdown",
      "source": [
        "Median"
      ],
      "metadata": {
        "id": "OaJjpsI6PiSS"
      }
    },
    {
      "cell_type": "code",
      "source": [
        "median1=np.median(array1)\n",
        "median2=np.median(array2)\n",
        "median3=np.median(array3)\n",
        "print(median1)\n",
        "print(median2)\n",
        "print(median3)"
      ],
      "metadata": {
        "colab": {
          "base_uri": "https://localhost:8080/"
        },
        "id": "FV-0KGucPhjk",
        "outputId": "90cf18f4-89a4-41c6-cf4d-d214f7472139"
      },
      "execution_count": 21,
      "outputs": [
        {
          "output_type": "stream",
          "name": "stdout",
          "text": [
            "7.0\n",
            "7.5\n",
            "31.5\n"
          ]
        }
      ]
    },
    {
      "cell_type": "markdown",
      "source": [
        "Mean of numpy Array"
      ],
      "metadata": {
        "id": "y_m--LkDPo0d"
      }
    },
    {
      "cell_type": "code",
      "source": [
        "mean1=np.mean(array1)\n",
        "mean2=np.mean(array2)\n",
        "mean3=np.mean(array3)\n",
        "print(mean1)\n",
        "print(mean2)\n",
        "print(mean3)"
      ],
      "metadata": {
        "colab": {
          "base_uri": "https://localhost:8080/"
        },
        "id": "0awDpfRSPrry",
        "outputId": "4e1d2e0e-ed8f-493e-e46d-80d181ecbf40"
      },
      "execution_count": 22,
      "outputs": [
        {
          "output_type": "stream",
          "name": "stdout",
          "text": [
            "25.5\n",
            "21.5\n",
            "29.458333333333332\n"
          ]
        }
      ]
    },
    {
      "cell_type": "markdown",
      "source": [
        "Standard Deviation of Numpy Array"
      ],
      "metadata": {
        "id": "qa_S_nRJP3Es"
      }
    },
    {
      "cell_type": "code",
      "source": [
        "std1=np.std(array1)\n",
        "std2=np.std(array2)\n",
        "std3=np.std(array3)\n",
        "print(std1)\n",
        "print(std2)\n",
        "print(std3)"
      ],
      "metadata": {
        "colab": {
          "base_uri": "https://localhost:8080/"
        },
        "id": "SSl1BqHWP9nA",
        "outputId": "7c539949-5fe8-4e31-9628-13d15d331599"
      },
      "execution_count": 23,
      "outputs": [
        {
          "output_type": "stream",
          "name": "stdout",
          "text": [
            "34.99642838919423\n",
            "26.622359023948274\n",
            "20.599310600654142\n"
          ]
        }
      ]
    },
    {
      "cell_type": "markdown",
      "source": [
        "Percentile of Numpy Array"
      ],
      "metadata": {
        "id": "BczqvbyXQELO"
      }
    },
    {
      "cell_type": "code",
      "source": [
        "percentile1=np.percentile(array1,50)\n",
        "percentile2=np.percentile(array2,50)\n",
        "percentile3=np.percentile(array3,50)\n",
        "print(percentile1)\n",
        "print(percentile2)\n",
        "print(percentile3)"
      ],
      "metadata": {
        "colab": {
          "base_uri": "https://localhost:8080/"
        },
        "id": "YRrgVM8-QLFu",
        "outputId": "f794fd83-2ad7-4282-cbcb-4439ef96c990"
      },
      "execution_count": 24,
      "outputs": [
        {
          "output_type": "stream",
          "name": "stdout",
          "text": [
            "7.0\n",
            "7.5\n",
            "31.5\n"
          ]
        }
      ]
    },
    {
      "cell_type": "markdown",
      "source": [
        "Minimum of Numpy Array"
      ],
      "metadata": {
        "id": "rNYM31u7QWdY"
      }
    },
    {
      "cell_type": "code",
      "source": [
        "min1=np.min(array1)\n",
        "min2=np.min(array2)\n",
        "min3=np.min(array3)\n",
        "print(min1)\n",
        "print(min2)\n",
        "print(min3)"
      ],
      "metadata": {
        "colab": {
          "base_uri": "https://localhost:8080/"
        },
        "id": "KZM7qR4qQcfS",
        "outputId": "f6a3a5d1-7a52-4d21-f09b-f8facd07a72e"
      },
      "execution_count": 25,
      "outputs": [
        {
          "output_type": "stream",
          "name": "stdout",
          "text": [
            "2\n",
            "3\n",
            "2\n"
          ]
        }
      ]
    },
    {
      "cell_type": "markdown",
      "source": [
        "Maximum of Numpy Array"
      ],
      "metadata": {
        "id": "Xtr7btyxQuFj"
      }
    },
    {
      "cell_type": "code",
      "source": [
        "max1=np.max(array1)\n",
        "max2=np.max(array2)\n",
        "max3=np.max(array3)\n",
        "print(max1)\n",
        "print(max2)\n",
        "print(max3)"
      ],
      "metadata": {
        "colab": {
          "base_uri": "https://localhost:8080/"
        },
        "id": "NiK4atLyRAxH",
        "outputId": "5a157dc4-e163-4258-ea4a-a3d00a9ffe16"
      },
      "execution_count": 26,
      "outputs": [
        {
          "output_type": "stream",
          "name": "stdout",
          "text": [
            "86\n",
            "68\n",
            "83\n"
          ]
        }
      ]
    }
  ]
}