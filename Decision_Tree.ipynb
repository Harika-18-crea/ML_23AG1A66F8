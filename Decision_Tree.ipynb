{
  "cells": [
    {
      "cell_type": "code",
      "source": [
        "import pandas as pd\n",
        "from sklearn.datasets import load_wine\n",
        "from sklearn.model_selection import train_test_split\n",
        "from sklearn.tree import DecisionTreeClassifier\n",
        "from sklearn.metrics import accuracy_score\n",
        "wine = load_wine()\n",
        "X = pd.DataFrame(wine.data, columns=wine.feature_names)\n",
        "y = pd.Series(wine.target)\n",
        "X_train, X_test, y_train, y_test = train_test_split(X, y, test_size=0.2, random_state=42)\n",
        "dt_default = DecisionTreeClassifier(random_state=42)\n",
        "dt_default.fit(X_train, y_train)\n",
        "y_pred_default = dt_default.predict(X_test)\n",
        "accuracy_default = accuracy_score(y_test, y_pred_default)\n",
        "print(f\"Accuracy of default Decision Tree: {accuracy_default:.4f}\")"
      ],
      "metadata": {
        "id": "pB-DIvH3viUM",
        "outputId": "77085ea2-d9fb-43e1-9979-61e0271d1824",
        "colab": {
          "base_uri": "https://localhost:8080/"
        }
      },
      "execution_count": null,
      "outputs": [
        {
          "output_type": "stream",
          "name": "stdout",
          "text": [
            "Accuracy of default Decision Tree: 0.9444\n"
          ]
        }
      ]
    },
    {
      "cell_type": "code",
      "source": [
        "from sklearn.model_selection import GridSearchCV\n",
        "param_grid = {\n",
        "    'criterion' :['gini', 'entropy'],\n",
        "    'max_depth': [None, 5, 10, 20],\n",
        "    'min_samples_split': [2, 5, 10],\n",
        "    'min_samples_leaf': [1, 2, 4]\n",
        "}\n",
        "dt=DecisionTreeClassifier(random_state=42)\n",
        "grid_search = GridSearchCV(estimator=dt, param_grid=param_grid, cv=5,n_jobs=-1,verbose=1,scoring='accuracy')\n",
        "grid_search.fit(X_train, y_train)\n",
        "print(\"\\nBest Parameters found by GridSearchCV:\")\n",
        "print(grid_search.best_params_)\n",
        "best_dt = grid_search.best_estimator_\n",
        "y_pred_tuned = best_dt.predict(X_test)\n",
        "accuracy_tuned = accuracy_score(y_test, y_pred_tuned)\n",
        "print(f\"\\nAccuracy of default Decision Tree: {accuracy_default:.4f}\")\n",
        "print(f\"Accuracy of best Decision Tree: {accuracy_tuned:.4f}\")"
      ],
      "metadata": {
        "id": "p8hFCnCyv6Ra",
        "outputId": "a2d8aff7-fd87-4f1f-eb9d-a994bb7512e8",
        "colab": {
          "base_uri": "https://localhost:8080/"
        }
      },
      "execution_count": null,
      "outputs": [
        {
          "output_type": "stream",
          "name": "stdout",
          "text": [
            "Fitting 5 folds for each of 72 candidates, totalling 360 fits\n",
            "\n",
            "Best Parameters found by GridSearchCV:\n",
            "{'criterion': 'gini', 'max_depth': None, 'min_samples_leaf': 1, 'min_samples_split': 10}\n",
            "\n",
            "Accuracy of default Decision Tree: 0.9444\n",
            "Accuracy of best Decision Tree: 0.9444\n"
          ]
        }
      ]
    }
  ],
  "metadata": {
    "colab": {
      "provenance": []
    },
    "kernelspec": {
      "display_name": "Python 3",
      "name": "python3"
    }
  },
  "nbformat": 4,
  "nbformat_minor": 0
}